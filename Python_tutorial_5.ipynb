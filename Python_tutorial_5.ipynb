{
  "nbformat": 4,
  "nbformat_minor": 0,
  "metadata": {
    "colab": {
      "provenance": [],
      "collapsed_sections": [],
      "authorship_tag": "ABX9TyOlBMvjTo7b0GEzVrANXyEP",
      "include_colab_link": true
    },
    "kernelspec": {
      "name": "python3",
      "display_name": "Python 3"
    }
  },
  "cells": [
    {
      "cell_type": "markdown",
      "metadata": {
        "id": "view-in-github",
        "colab_type": "text"
      },
      "source": [
        "<a href=\"https://colab.research.google.com/github/nityanandkumarm/Python/blob/main/Python_tutorial_5.ipynb\" target=\"_parent\"><img src=\"https://colab.research.google.com/assets/colab-badge.svg\" alt=\"Open In Colab\"/></a>"
      ]
    },
    {
      "cell_type": "code",
      "metadata": {
        "id": "m40gs7vipxMM",
        "outputId": "a2a19f5a-d4c1-49b4-f1bd-4188bd6e1c9f",
        "colab": {
          "base_uri": "https://localhost:8080/",
          "height": 67
        }
      },
      "source": [
        "  food= [\"apple pie\", \"banana boat\", \"orange juce\", \"apple cider\",\"fried banana\", \"dry banana\", \"fruit cake\"]\n",
        "AppleFoods = [] \n",
        "BananaFood = []\n",
        "OtherFood = []\n",
        "for substring in food:\n",
        "\n",
        "    if (substring.lower()==\"apple\"):\n",
        "         AppleFoods.append(substring)\n",
        "      \n",
        "    elif (substring.lower() == \"banana\"):\n",
        "      BananaFoods.append(substring)\n",
        "      \n",
        "    else:\n",
        "      OtherFood.append(substring)\n",
        "  \n",
        "print(\"Apple food items are: \",AppleFoods)\n",
        "print(\"Banana foods are: \", BananaFood)\n",
        "print(\"Other food items are: \", OtherFood)\n",
        "        \n",
        "              \n",
        "        \n"
      ],
      "execution_count": null,
      "outputs": [
        {
          "output_type": "stream",
          "text": [
            "Apple food items are:  []\n",
            "Banana foods are:  []\n",
            "Other food items are:  ['apple pie', 'banana boat', 'orange juce', 'apple cider', 'fried banana', 'dry banana', 'fruit cake']\n"
          ],
          "name": "stdout"
        }
      ]
    }
  ]
}