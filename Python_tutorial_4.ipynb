{
  "nbformat": 4,
  "nbformat_minor": 0,
  "metadata": {
    "colab": {
      "provenance": [],
      "authorship_tag": "ABX9TyMt8TiEIZ+PiysqbpZHv0mQ",
      "include_colab_link": true
    },
    "kernelspec": {
      "name": "python3",
      "display_name": "Python 3"
    }
  },
  "cells": [
    {
      "cell_type": "markdown",
      "metadata": {
        "id": "view-in-github",
        "colab_type": "text"
      },
      "source": [
        "<a href=\"https://colab.research.google.com/github/nityanandkumarm/Python/blob/main/Python_tutorial_4.ipynb\" target=\"_parent\"><img src=\"https://colab.research.google.com/assets/colab-badge.svg\" alt=\"Open In Colab\"/></a>"
      ]
    },
    {
      "cell_type": "code",
      "metadata": {
        "id": "lwPaY9tT9_-Y",
        "outputId": "f6ffc7fe-8646-41c1-c48d-fc9da89c4d36",
        "colab": {
          "base_uri": "https://localhost:8080/",
          "height": 50
        }
      },
      "source": [
        "n = int(input(\"Enter any number\") )\n",
        "r = 0\n",
        "while (n>0):\n",
        "  r = r*10 + n%10 \n",
        "  n = n/10\n",
        "print (\"reverse number is \", r)"
      ],
      "execution_count": null,
      "outputs": [
        {
          "output_type": "stream",
          "text": [
            "Enter any number45\n",
            "reverse number is  inf\n"
          ],
          "name": "stdout"
        }
      ]
    },
    {
      "cell_type": "code",
      "metadata": {
        "id": "1UzrSQiU-BkH",
        "outputId": "90183a37-373a-46ae-ca5c-b54a4d71ec8b",
        "colab": {
          "base_uri": "https://localhost:8080/",
          "height": 34
        }
      },
      "source": [
        "def reverse_number(n):\n",
        "    r = 0\n",
        "    while n > 0:\n",
        "        r *= 10\n",
        "        r += n % 10\n",
        "        n /= 10\n",
        "    return r\n",
        "\n",
        "print(reverse_number(123))"
      ],
      "execution_count": null,
      "outputs": [
        {
          "output_type": "stream",
          "text": [
            "inf\n"
          ],
          "name": "stdout"
        }
      ]
    },
    {
      "cell_type": "code",
      "metadata": {
        "id": "GhgNRWO5_K2J",
        "outputId": "dec320bc-acf9-4b26-abaf-dcc620f5316a",
        "colab": {
          "base_uri": "https://localhost:8080/",
          "height": 34
        }
      },
      "source": [
        "string='chegg'\n",
        "for c in string[::-1]:\n",
        "  print(c, end=\" \")\n",
        "  string=string.upper()\n"
      ],
      "execution_count": null,
      "outputs": [
        {
          "output_type": "stream",
          "text": [
            "g g e h c "
          ],
          "name": "stdout"
        }
      ]
    },
    {
      "cell_type": "code",
      "metadata": {
        "id": "Vpz8xQfTAQZr"
      },
      "source": [],
      "execution_count": null,
      "outputs": []
    }
  ]
}